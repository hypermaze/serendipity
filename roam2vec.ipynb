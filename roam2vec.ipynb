{
  "nbformat": 4,
  "nbformat_minor": 0,
  "metadata": {
    "colab": {
      "name": "roam2vec.ipynb",
      "provenance": [],
      "collapsed_sections": []
    },
    "kernelspec": {
      "name": "python3",
      "display_name": "Python 3"
    },
    "language_info": {
      "name": "python"
    },
    "accelerator": "GPU",
    "widgets": {
      "application/vnd.jupyter.widget-state+json": {
        "a656a57e2c904f319c322c0ff50b70ee": {
          "model_module": "@jupyter-widgets/controls",
          "model_name": "HBoxModel",
          "model_module_version": "1.5.0",
          "state": {
            "_view_name": "HBoxView",
            "_dom_classes": [],
            "_model_name": "HBoxModel",
            "_view_module": "@jupyter-widgets/controls",
            "_model_module_version": "1.5.0",
            "_view_count": null,
            "_view_module_version": "1.5.0",
            "box_style": "",
            "layout": "IPY_MODEL_d7ee526fa95c47ada4dcca9c2258fbcc",
            "_model_module": "@jupyter-widgets/controls",
            "children": [
              "IPY_MODEL_65d76f96b39f49f9b65412111669919d",
              "IPY_MODEL_ffcd04028063494fb1034d2ae6c4e1a6",
              "IPY_MODEL_c014ef3bad724a99bcb9f13c19f42c73"
            ]
          }
        },
        "d7ee526fa95c47ada4dcca9c2258fbcc": {
          "model_module": "@jupyter-widgets/base",
          "model_name": "LayoutModel",
          "model_module_version": "1.2.0",
          "state": {
            "_view_name": "LayoutView",
            "grid_template_rows": null,
            "right": null,
            "justify_content": null,
            "_view_module": "@jupyter-widgets/base",
            "overflow": null,
            "_model_module_version": "1.2.0",
            "_view_count": null,
            "flex_flow": null,
            "width": null,
            "min_width": null,
            "border": null,
            "align_items": null,
            "bottom": null,
            "_model_module": "@jupyter-widgets/base",
            "top": null,
            "grid_column": null,
            "overflow_y": null,
            "overflow_x": null,
            "grid_auto_flow": null,
            "grid_area": null,
            "grid_template_columns": null,
            "flex": null,
            "_model_name": "LayoutModel",
            "justify_items": null,
            "grid_row": null,
            "max_height": null,
            "align_content": null,
            "visibility": null,
            "align_self": null,
            "height": null,
            "min_height": null,
            "padding": null,
            "grid_auto_rows": null,
            "grid_gap": null,
            "max_width": null,
            "order": null,
            "_view_module_version": "1.2.0",
            "grid_template_areas": null,
            "object_position": null,
            "object_fit": null,
            "grid_auto_columns": null,
            "margin": null,
            "display": null,
            "left": null
          }
        },
        "65d76f96b39f49f9b65412111669919d": {
          "model_module": "@jupyter-widgets/controls",
          "model_name": "HTMLModel",
          "model_module_version": "1.5.0",
          "state": {
            "_view_name": "HTMLView",
            "style": "IPY_MODEL_335790b41a7444f0b83920d4f83341c4",
            "_dom_classes": [],
            "description": "",
            "_model_name": "HTMLModel",
            "placeholder": "​",
            "_view_module": "@jupyter-widgets/controls",
            "_model_module_version": "1.5.0",
            "value": "Batches: 100%",
            "_view_count": null,
            "_view_module_version": "1.5.0",
            "description_tooltip": null,
            "_model_module": "@jupyter-widgets/controls",
            "layout": "IPY_MODEL_72d82e82ca4e48078235c85b738b83a0"
          }
        },
        "ffcd04028063494fb1034d2ae6c4e1a6": {
          "model_module": "@jupyter-widgets/controls",
          "model_name": "FloatProgressModel",
          "model_module_version": "1.5.0",
          "state": {
            "_view_name": "ProgressView",
            "style": "IPY_MODEL_5a5cb0841943493a98b2981279c69a12",
            "_dom_classes": [],
            "description": "",
            "_model_name": "FloatProgressModel",
            "bar_style": "success",
            "max": 155,
            "_view_module": "@jupyter-widgets/controls",
            "_model_module_version": "1.5.0",
            "value": 155,
            "_view_count": null,
            "_view_module_version": "1.5.0",
            "orientation": "horizontal",
            "min": 0,
            "description_tooltip": null,
            "_model_module": "@jupyter-widgets/controls",
            "layout": "IPY_MODEL_59fe3abc98014f2dad47fc92c17cbba0"
          }
        },
        "c014ef3bad724a99bcb9f13c19f42c73": {
          "model_module": "@jupyter-widgets/controls",
          "model_name": "HTMLModel",
          "model_module_version": "1.5.0",
          "state": {
            "_view_name": "HTMLView",
            "style": "IPY_MODEL_fd101fd449d54bd9bd85fe55a661a48a",
            "_dom_classes": [],
            "description": "",
            "_model_name": "HTMLModel",
            "placeholder": "​",
            "_view_module": "@jupyter-widgets/controls",
            "_model_module_version": "1.5.0",
            "value": " 155/155 [00:20&lt;00:00, 17.98it/s]",
            "_view_count": null,
            "_view_module_version": "1.5.0",
            "description_tooltip": null,
            "_model_module": "@jupyter-widgets/controls",
            "layout": "IPY_MODEL_1d92027ad51a4c099fbe09226e08583b"
          }
        },
        "335790b41a7444f0b83920d4f83341c4": {
          "model_module": "@jupyter-widgets/controls",
          "model_name": "DescriptionStyleModel",
          "model_module_version": "1.5.0",
          "state": {
            "_view_name": "StyleView",
            "_model_name": "DescriptionStyleModel",
            "description_width": "",
            "_view_module": "@jupyter-widgets/base",
            "_model_module_version": "1.5.0",
            "_view_count": null,
            "_view_module_version": "1.2.0",
            "_model_module": "@jupyter-widgets/controls"
          }
        },
        "72d82e82ca4e48078235c85b738b83a0": {
          "model_module": "@jupyter-widgets/base",
          "model_name": "LayoutModel",
          "model_module_version": "1.2.0",
          "state": {
            "_view_name": "LayoutView",
            "grid_template_rows": null,
            "right": null,
            "justify_content": null,
            "_view_module": "@jupyter-widgets/base",
            "overflow": null,
            "_model_module_version": "1.2.0",
            "_view_count": null,
            "flex_flow": null,
            "width": null,
            "min_width": null,
            "border": null,
            "align_items": null,
            "bottom": null,
            "_model_module": "@jupyter-widgets/base",
            "top": null,
            "grid_column": null,
            "overflow_y": null,
            "overflow_x": null,
            "grid_auto_flow": null,
            "grid_area": null,
            "grid_template_columns": null,
            "flex": null,
            "_model_name": "LayoutModel",
            "justify_items": null,
            "grid_row": null,
            "max_height": null,
            "align_content": null,
            "visibility": null,
            "align_self": null,
            "height": null,
            "min_height": null,
            "padding": null,
            "grid_auto_rows": null,
            "grid_gap": null,
            "max_width": null,
            "order": null,
            "_view_module_version": "1.2.0",
            "grid_template_areas": null,
            "object_position": null,
            "object_fit": null,
            "grid_auto_columns": null,
            "margin": null,
            "display": null,
            "left": null
          }
        },
        "5a5cb0841943493a98b2981279c69a12": {
          "model_module": "@jupyter-widgets/controls",
          "model_name": "ProgressStyleModel",
          "model_module_version": "1.5.0",
          "state": {
            "_view_name": "StyleView",
            "_model_name": "ProgressStyleModel",
            "description_width": "",
            "_view_module": "@jupyter-widgets/base",
            "_model_module_version": "1.5.0",
            "_view_count": null,
            "_view_module_version": "1.2.0",
            "bar_color": null,
            "_model_module": "@jupyter-widgets/controls"
          }
        },
        "59fe3abc98014f2dad47fc92c17cbba0": {
          "model_module": "@jupyter-widgets/base",
          "model_name": "LayoutModel",
          "model_module_version": "1.2.0",
          "state": {
            "_view_name": "LayoutView",
            "grid_template_rows": null,
            "right": null,
            "justify_content": null,
            "_view_module": "@jupyter-widgets/base",
            "overflow": null,
            "_model_module_version": "1.2.0",
            "_view_count": null,
            "flex_flow": null,
            "width": null,
            "min_width": null,
            "border": null,
            "align_items": null,
            "bottom": null,
            "_model_module": "@jupyter-widgets/base",
            "top": null,
            "grid_column": null,
            "overflow_y": null,
            "overflow_x": null,
            "grid_auto_flow": null,
            "grid_area": null,
            "grid_template_columns": null,
            "flex": null,
            "_model_name": "LayoutModel",
            "justify_items": null,
            "grid_row": null,
            "max_height": null,
            "align_content": null,
            "visibility": null,
            "align_self": null,
            "height": null,
            "min_height": null,
            "padding": null,
            "grid_auto_rows": null,
            "grid_gap": null,
            "max_width": null,
            "order": null,
            "_view_module_version": "1.2.0",
            "grid_template_areas": null,
            "object_position": null,
            "object_fit": null,
            "grid_auto_columns": null,
            "margin": null,
            "display": null,
            "left": null
          }
        },
        "fd101fd449d54bd9bd85fe55a661a48a": {
          "model_module": "@jupyter-widgets/controls",
          "model_name": "DescriptionStyleModel",
          "model_module_version": "1.5.0",
          "state": {
            "_view_name": "StyleView",
            "_model_name": "DescriptionStyleModel",
            "description_width": "",
            "_view_module": "@jupyter-widgets/base",
            "_model_module_version": "1.5.0",
            "_view_count": null,
            "_view_module_version": "1.2.0",
            "_model_module": "@jupyter-widgets/controls"
          }
        },
        "1d92027ad51a4c099fbe09226e08583b": {
          "model_module": "@jupyter-widgets/base",
          "model_name": "LayoutModel",
          "model_module_version": "1.2.0",
          "state": {
            "_view_name": "LayoutView",
            "grid_template_rows": null,
            "right": null,
            "justify_content": null,
            "_view_module": "@jupyter-widgets/base",
            "overflow": null,
            "_model_module_version": "1.2.0",
            "_view_count": null,
            "flex_flow": null,
            "width": null,
            "min_width": null,
            "border": null,
            "align_items": null,
            "bottom": null,
            "_model_module": "@jupyter-widgets/base",
            "top": null,
            "grid_column": null,
            "overflow_y": null,
            "overflow_x": null,
            "grid_auto_flow": null,
            "grid_area": null,
            "grid_template_columns": null,
            "flex": null,
            "_model_name": "LayoutModel",
            "justify_items": null,
            "grid_row": null,
            "max_height": null,
            "align_content": null,
            "visibility": null,
            "align_self": null,
            "height": null,
            "min_height": null,
            "padding": null,
            "grid_auto_rows": null,
            "grid_gap": null,
            "max_width": null,
            "order": null,
            "_view_module_version": "1.2.0",
            "grid_template_areas": null,
            "object_position": null,
            "object_fit": null,
            "grid_auto_columns": null,
            "margin": null,
            "display": null,
            "left": null
          }
        }
      }
    }
  },
  "cells": [
    {
      "cell_type": "code",
      "metadata": {
        "id": "NqKzBGv4jaGW"
      },
      "source": [
        "pip install faiss-gpu sentence-transformers toolz\n"
      ],
      "execution_count": null,
      "outputs": []
    },
    {
      "cell_type": "code",
      "metadata": {
        "id": "sx_5fa3-jaNi"
      },
      "source": [
        "import os\n",
        "import shutil\n",
        "from sentence_transformers import SentenceTransformer, models, util\n",
        "import torch\n",
        "import faiss\n",
        "import numpy as np\n",
        "import pandas as pd\n",
        "import itertools\n",
        "import re\n",
        "import json\n",
        "from toolz import thread_first, thread_last\n",
        "from collections.abc import Iterable\n",
        "from datetime import date"
      ],
      "execution_count": 2,
      "outputs": []
    },
    {
      "cell_type": "markdown",
      "metadata": {
        "id": "HnJb0iMspGsx"
      },
      "source": [
        "## Utilities"
      ]
    },
    {
      "cell_type": "code",
      "metadata": {
        "id": "IrOZhGUfmKJG"
      },
      "source": [
        "from typing import List, Dict, Union\n",
        "def pipe(*funcs:List[callable], thread=\"first\"):\n",
        "    thread = thread_first if thread == \"first\" else thread_last\n",
        "    return lambda data: thread(data, *funcs)"
      ],
      "execution_count": 4,
      "outputs": []
    },
    {
      "cell_type": "code",
      "metadata": {
        "id": "j8IE3UpimF5Q"
      },
      "source": [
        "URL_REGEX = '\\(?((http|https)\\:\\/\\/)?[a-zA-Z0-9\\.\\/\\?\\:@\\-_=#]+\\.([a-zA-Z]){2,6}([a-zA-Z0-9\\.\\&\\/\\?\\:@\\-_=#])*\\)?'\n",
        "\n",
        "def remove_html_tags(form, content=\"HTML_TAGS\"):\n",
        "    html_tags = re.compile('<.*?>')\n",
        "    return re.sub(html_tags, '', form)\n",
        "\n",
        "def remove_buttons(form):\n",
        "    button_elems = re.compile('\\{\\{\\[\\[(TODO|DONE|slider)\\]\\]\\}\\}')\n",
        "    return re.sub(button_elems, '', form)\n",
        "\n",
        "def remove_url(form):\n",
        "    url = re.compile(URL_REGEX)\n",
        "    return re.sub(url, '', form)\n",
        "\n",
        "def remove_attr(form):\n",
        "    attr = re.compile('^[^:\\r\\n]+:*')\n",
        "    return re.sub(attr, '', form)\n",
        "\n",
        "def replace_block_ref(form, lookup):\n",
        "    \"\"\"good job here... my implementation in js was much worse\"\"\"\n",
        "    block_ref = re.compile('\\(\\((.*)\\)\\)')\n",
        "    block = re.search(block_ref, form)\n",
        "    if block:\n",
        "        return lookup.get(re.sub('[()]', '', block.group(0)))\n",
        "    return form\n",
        "\n",
        "def remove_duplicates(form: Iterable):\n",
        "    if isinstance(form, list):\n",
        "        return list(set(form))\n",
        "    return form"
      ],
      "execution_count": 5,
      "outputs": []
    },
    {
      "cell_type": "code",
      "metadata": {
        "id": "oAGj1bovl3Q8"
      },
      "source": [
        "def roam_graph_to_blocks(roam_graph):\n",
        "    roam_blocks_map = {}\n",
        "\n",
        "    def extract_strings(roam_block):\n",
        "        if type(roam_block) == list:\n",
        "            roam_block = roam_block[0]\n",
        "        if roam_block.get(\"string\") and roam_block.get(\"uid\"):\n",
        "            roam_blocks_map[roam_block.get(\"uid\")] = roam_block.get(\"string\")\n",
        "        if roam_block.get(\"children\"):\n",
        "            for child in roam_block.get(\"children\"):\n",
        "                extract_strings(child)\n",
        "\n",
        "    for block in roam_graph:\n",
        "        extract_strings(block)\n",
        "\n",
        "    return roam_blocks_map"
      ],
      "execution_count": 6,
      "outputs": []
    },
    {
      "cell_type": "code",
      "metadata": {
        "id": "DGIKJlzljk4e"
      },
      "source": [
        "STRING_FUNCS = [\"capitalize\", \"count\", \"isalnum\", \"isalpha\", \"isascii\", \"isdecimal\", \"isdigit\", \"isidentifier\", \"islower\",\n",
        "                \"isnumeric\", \"isspace\", \"istitle\", \"isupper\", \"lower\", \"lstrip\", \"replace\", \"rstrip\", \"split\", \"strip\", \"upper\"]\n",
        "\n",
        "for s_func in STRING_FUNCS: #PYTHON MAGIC\n",
        "    exec(\"%s=getattr(str, s_func)\" %s_func)"
      ],
      "execution_count": 19,
      "outputs": []
    },
    {
      "cell_type": "code",
      "metadata": {
        "id": "Xb8nHBgPlNuz"
      },
      "source": [
        "clean_sentence = pipe(\n",
        "#                       replace_block_ref,\n",
        "                      remove_buttons,\n",
        "                      remove_html_tags,\n",
        "                      remove_url,\n",
        "#                       remove_attr, #attention !!! buggy!\n",
        "                      (replace, \"  \", \" \"),\n",
        "                      (replace, \"[\", \"\"),\n",
        "                      (replace, \"]\", \"\"),\n",
        "                      (replace, \"#\", \"\"),\n",
        "                      (replace, \"`\", \"\"),\n",
        "                      (replace, \"__\", \"\"),\n",
        "                      (replace, \"~~\", \"\"),\n",
        "                      (replace, \"**\", \"\"),\n",
        "                      (replace, \"^^\", \"\"),\n",
        "                      strip,\n",
        "                      lower\n",
        "                      )"
      ],
      "execution_count": 20,
      "outputs": []
    },
    {
      "cell_type": "code",
      "metadata": {
        "id": "8CYn_PRhrGDB"
      },
      "source": [
        "def is_too_short(s, length=10):\n",
        "    return len(s.split(\" \")) < length\n",
        "\n",
        "stop_symbols = [\"TODO\", \"DONE\", \"::\", \"```\", \"![\"]\n",
        "def has_stop_symbols(s):\n",
        "    return any([symbol in s for symbol in stop_symbols])"
      ],
      "execution_count": 17,
      "outputs": []
    },
    {
      "cell_type": "markdown",
      "metadata": {
        "id": "7P2Wlvq0pLSi"
      },
      "source": [
        "## Roam2Vec\n",
        "\n",
        "TODO\n",
        "* compress embeddings"
      ]
    },
    {
      "cell_type": "code",
      "metadata": {
        "id": "7PEQRy_fjlSs"
      },
      "source": [
        "with open(\"roam.json\", \"r\") as f:\n",
        "  roam_data = json.loads(f.read())"
      ],
      "execution_count": 10,
      "outputs": []
    },
    {
      "cell_type": "code",
      "metadata": {
        "id": "Q8dLPzfuqRHI"
      },
      "source": [
        "roam_blocks = roam_graph_to_blocks(roam_data)"
      ],
      "execution_count": 13,
      "outputs": []
    },
    {
      "cell_type": "code",
      "metadata": {
        "id": "tMZQLmbAqZXE"
      },
      "source": [
        "model = SentenceTransformer('sentence-transformers/all-mpnet-base-v2')"
      ],
      "execution_count": null,
      "outputs": []
    },
    {
      "cell_type": "code",
      "metadata": {
        "colab": {
          "base_uri": "https://localhost:8080/",
          "height": 49,
          "referenced_widgets": [
            "a656a57e2c904f319c322c0ff50b70ee",
            "d7ee526fa95c47ada4dcca9c2258fbcc",
            "65d76f96b39f49f9b65412111669919d",
            "ffcd04028063494fb1034d2ae6c4e1a6",
            "c014ef3bad724a99bcb9f13c19f42c73",
            "335790b41a7444f0b83920d4f83341c4",
            "72d82e82ca4e48078235c85b738b83a0",
            "5a5cb0841943493a98b2981279c69a12",
            "59fe3abc98014f2dad47fc92c17cbba0",
            "fd101fd449d54bd9bd85fe55a661a48a",
            "1d92027ad51a4c099fbe09226e08583b"
          ]
        },
        "id": "iCe-MHUZrx8u",
        "outputId": "033cda37-501f-4cb7-b890-bca59c952b5d"
      },
      "source": [
        "blocks = [(uid, clean_sentence(sentence)) for i, (uid, sentence) in enumerate(roam_blocks.items())  if not is_too_short(sentence) and not has_stop_symbols(sentence)]\n",
        "#blocks = [(uid, sents), (uid, sents) ]\n",
        "\n",
        "uids = [uid for uid, sentence in blocks]\n",
        "sentences = [sentence for uid, sentence in blocks]\n",
        "embeddings = model.encode(sentences, batch_size=64, show_progress_bar=True, convert_to_tensor=True)\n",
        "embeddings = embeddings.cpu().detach().numpy()"
      ],
      "execution_count": 55,
      "outputs": [
        {
          "output_type": "display_data",
          "data": {
            "application/vnd.jupyter.widget-view+json": {
              "model_id": "a656a57e2c904f319c322c0ff50b70ee",
              "version_minor": 0,
              "version_major": 2
            },
            "text/plain": [
              "Batches:   0%|          | 0/155 [00:00<?, ?it/s]"
            ]
          },
          "metadata": {}
        }
      ]
    },
    {
      "cell_type": "code",
      "metadata": {
        "colab": {
          "base_uri": "https://localhost:8080/"
        },
        "id": "9oRan8yvzGs3",
        "outputId": "64be7fa6-fe69-441c-80fc-6bb8537fe494"
      },
      "source": [
        "len(sentences), len(roam_blocks.items())"
      ],
      "execution_count": 66,
      "outputs": [
        {
          "output_type": "execute_result",
          "data": {
            "text/plain": [
              "(9917, 26761)"
            ]
          },
          "metadata": {},
          "execution_count": 66
        }
      ]
    },
    {
      "cell_type": "markdown",
      "metadata": {
        "id": "U8cQPZj208Od"
      },
      "source": [
        "Save the text + embeddings as JSON for API use"
      ]
    },
    {
      "cell_type": "code",
      "metadata": {
        "id": "A2evqGrZjNZa"
      },
      "source": [
        "with open(\"roam_embeddings\", \"w\") as outfile:\n",
        "    roam_index = [{\"uid\": uids[idx], \"sentence\":sentences[idx], \"embedding\": embeddings[idx]} for idx in range(0, len(sentences))]\n",
        "    json.dump(index_list, outfile)"
      ],
      "execution_count": 68,
      "outputs": []
    },
    {
      "cell_type": "markdown",
      "metadata": {
        "id": "wA9RLR8usPD0"
      },
      "source": [
        "## FAISS QUERIES\n",
        "\n",
        "This is basically what the server is running. Quite simple and fast"
      ]
    },
    {
      "cell_type": "code",
      "metadata": {
        "id": "I3SqfYoKq3hh"
      },
      "source": [
        "def create_index(embeddings):\n",
        "    faiss_index = faiss.IndexFlatL2(len(embeddings[0]))\n",
        "    faiss_index.add(embeddings)\n",
        "\n",
        "#     print(faiss_index.ntotal)\n",
        "\n",
        "    return faiss_index\n",
        "def query_index(text, model, target_list, index, with_distance=False, k=10):\n",
        "    embedding = model.encode([text])\n",
        "    distances, indices = index.search(embedding, k)\n",
        "    if with_distance:\n",
        "        return [(target_list[index], distances[0][i]) for i, index in enumerate(indices[0])]\n",
        "    return [target_list[i] for i in indices[0]]\n"
      ],
      "execution_count": 38,
      "outputs": []
    },
    {
      "cell_type": "code",
      "metadata": {
        "colab": {
          "base_uri": "https://localhost:8080/"
        },
        "id": "g5MyYtqHrfZc",
        "outputId": "41a88a51-779a-4b4b-ee6a-7efb4ea794a2"
      },
      "source": [
        "#when loading: embeddings = np.array([obj.get(\"embedding\") for obj in roam_index], dtype=np.float32)\n",
        "index = create_index(embeddings)\n",
        "query_index(\"Debating about program languages is for nerds\", model, sentences, index, with_distance=True, k =8)"
      ],
      "execution_count": 67,
      "outputs": [
        {
          "output_type": "execute_result",
          "data": {
            "text/plain": [
              "[('programming language internet flamewars are predicated not on objective disagreements, but subjective personality differences.',\n",
              "  0.7061584),\n",
              " ('\"programming language internet flamewars are predicated not on objective disagreements, but subjective personality differences. \"',\n",
              "  0.7880716),\n",
              " ('like the border between two warring states, the boundary between language and program is drawn and redrawn, until eventually it comes to rest along the mountains and rivers, the natural frontiers of your problem.',\n",
              "  0.80680823),\n",
              " ('programmers have accents: your first language will shape how you think about problems',\n",
              "  0.8861312),\n",
              " ('nobody wants to program in a language that might go away.', 0.8896069),\n",
              " ('a programming language is (needless to say) intended as something in which to write programs. and while it’s usually considered desirable for humans to be able—at least at some level—to read the programs, the ultimate point is to provide a way to tell a computer what to do',\n",
              "  0.90272146),\n",
              " ('a good language is good for writing throwaway programs. often these represent the beginning of a bigger system.',\n",
              "  0.90848005),\n",
              " ('in the end your program will look as if the language had been designed for it.',\n",
              "  0.91244835)]"
            ]
          },
          "metadata": {},
          "execution_count": 67
        }
      ]
    },
    {
      "cell_type": "code",
      "metadata": {
        "id": "myTHSErctCbp"
      },
      "source": [
        ""
      ],
      "execution_count": null,
      "outputs": []
    }
  ]
}